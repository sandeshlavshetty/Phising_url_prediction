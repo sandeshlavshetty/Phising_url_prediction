{
 "cells": [
  {
   "cell_type": "code",
   "execution_count": 1,
   "metadata": {},
   "outputs": [],
   "source": [
    "import pandas as pd\n",
    "import numpy as np"
   ]
  },
  {
   "cell_type": "code",
   "execution_count": 2,
   "metadata": {},
   "outputs": [
    {
     "data": {
      "text/html": [
       "<div>\n",
       "<style scoped>\n",
       "    .dataframe tbody tr th:only-of-type {\n",
       "        vertical-align: middle;\n",
       "    }\n",
       "\n",
       "    .dataframe tbody tr th {\n",
       "        vertical-align: top;\n",
       "    }\n",
       "\n",
       "    .dataframe thead th {\n",
       "        text-align: right;\n",
       "    }\n",
       "</style>\n",
       "<table border=\"1\" class=\"dataframe\">\n",
       "  <thead>\n",
       "    <tr style=\"text-align: right;\">\n",
       "      <th></th>\n",
       "      <th>FILENAME</th>\n",
       "      <th>URL</th>\n",
       "      <th>URLLength</th>\n",
       "      <th>Domain</th>\n",
       "      <th>DomainLength</th>\n",
       "      <th>IsDomainIP</th>\n",
       "      <th>TLD</th>\n",
       "      <th>URLSimilarityIndex</th>\n",
       "      <th>CharContinuationRate</th>\n",
       "      <th>TLDLegitimateProb</th>\n",
       "      <th>...</th>\n",
       "      <th>Pay</th>\n",
       "      <th>Crypto</th>\n",
       "      <th>HasCopyrightInfo</th>\n",
       "      <th>NoOfImage</th>\n",
       "      <th>NoOfCSS</th>\n",
       "      <th>NoOfJS</th>\n",
       "      <th>NoOfSelfRef</th>\n",
       "      <th>NoOfEmptyRef</th>\n",
       "      <th>NoOfExternalRef</th>\n",
       "      <th>label</th>\n",
       "    </tr>\n",
       "  </thead>\n",
       "  <tbody>\n",
       "    <tr>\n",
       "      <th>0</th>\n",
       "      <td>521848.txt</td>\n",
       "      <td>https://www.southbankmosaics.com</td>\n",
       "      <td>31</td>\n",
       "      <td>www.southbankmosaics.com</td>\n",
       "      <td>24</td>\n",
       "      <td>0</td>\n",
       "      <td>com</td>\n",
       "      <td>100.0</td>\n",
       "      <td>1.000000</td>\n",
       "      <td>0.522907</td>\n",
       "      <td>...</td>\n",
       "      <td>0</td>\n",
       "      <td>0</td>\n",
       "      <td>1</td>\n",
       "      <td>34</td>\n",
       "      <td>20</td>\n",
       "      <td>28</td>\n",
       "      <td>119</td>\n",
       "      <td>0</td>\n",
       "      <td>124</td>\n",
       "      <td>1</td>\n",
       "    </tr>\n",
       "    <tr>\n",
       "      <th>1</th>\n",
       "      <td>31372.txt</td>\n",
       "      <td>https://www.uni-mainz.de</td>\n",
       "      <td>23</td>\n",
       "      <td>www.uni-mainz.de</td>\n",
       "      <td>16</td>\n",
       "      <td>0</td>\n",
       "      <td>de</td>\n",
       "      <td>100.0</td>\n",
       "      <td>0.666667</td>\n",
       "      <td>0.032650</td>\n",
       "      <td>...</td>\n",
       "      <td>0</td>\n",
       "      <td>0</td>\n",
       "      <td>1</td>\n",
       "      <td>50</td>\n",
       "      <td>9</td>\n",
       "      <td>8</td>\n",
       "      <td>39</td>\n",
       "      <td>0</td>\n",
       "      <td>217</td>\n",
       "      <td>1</td>\n",
       "    </tr>\n",
       "    <tr>\n",
       "      <th>2</th>\n",
       "      <td>597387.txt</td>\n",
       "      <td>https://www.voicefmradio.co.uk</td>\n",
       "      <td>29</td>\n",
       "      <td>www.voicefmradio.co.uk</td>\n",
       "      <td>22</td>\n",
       "      <td>0</td>\n",
       "      <td>uk</td>\n",
       "      <td>100.0</td>\n",
       "      <td>0.866667</td>\n",
       "      <td>0.028555</td>\n",
       "      <td>...</td>\n",
       "      <td>0</td>\n",
       "      <td>0</td>\n",
       "      <td>1</td>\n",
       "      <td>10</td>\n",
       "      <td>2</td>\n",
       "      <td>7</td>\n",
       "      <td>42</td>\n",
       "      <td>2</td>\n",
       "      <td>5</td>\n",
       "      <td>1</td>\n",
       "    </tr>\n",
       "    <tr>\n",
       "      <th>3</th>\n",
       "      <td>554095.txt</td>\n",
       "      <td>https://www.sfnmjournal.com</td>\n",
       "      <td>26</td>\n",
       "      <td>www.sfnmjournal.com</td>\n",
       "      <td>19</td>\n",
       "      <td>0</td>\n",
       "      <td>com</td>\n",
       "      <td>100.0</td>\n",
       "      <td>1.000000</td>\n",
       "      <td>0.522907</td>\n",
       "      <td>...</td>\n",
       "      <td>1</td>\n",
       "      <td>1</td>\n",
       "      <td>1</td>\n",
       "      <td>3</td>\n",
       "      <td>27</td>\n",
       "      <td>15</td>\n",
       "      <td>22</td>\n",
       "      <td>1</td>\n",
       "      <td>31</td>\n",
       "      <td>1</td>\n",
       "    </tr>\n",
       "    <tr>\n",
       "      <th>4</th>\n",
       "      <td>151578.txt</td>\n",
       "      <td>https://www.rewildingargentina.org</td>\n",
       "      <td>33</td>\n",
       "      <td>www.rewildingargentina.org</td>\n",
       "      <td>26</td>\n",
       "      <td>0</td>\n",
       "      <td>org</td>\n",
       "      <td>100.0</td>\n",
       "      <td>1.000000</td>\n",
       "      <td>0.079963</td>\n",
       "      <td>...</td>\n",
       "      <td>1</td>\n",
       "      <td>0</td>\n",
       "      <td>1</td>\n",
       "      <td>244</td>\n",
       "      <td>15</td>\n",
       "      <td>34</td>\n",
       "      <td>72</td>\n",
       "      <td>1</td>\n",
       "      <td>85</td>\n",
       "      <td>1</td>\n",
       "    </tr>\n",
       "  </tbody>\n",
       "</table>\n",
       "<p>5 rows × 56 columns</p>\n",
       "</div>"
      ],
      "text/plain": [
       "     FILENAME                                 URL  URLLength  \\\n",
       "0  521848.txt    https://www.southbankmosaics.com         31   \n",
       "1   31372.txt            https://www.uni-mainz.de         23   \n",
       "2  597387.txt      https://www.voicefmradio.co.uk         29   \n",
       "3  554095.txt         https://www.sfnmjournal.com         26   \n",
       "4  151578.txt  https://www.rewildingargentina.org         33   \n",
       "\n",
       "                       Domain  DomainLength  IsDomainIP  TLD  \\\n",
       "0    www.southbankmosaics.com            24           0  com   \n",
       "1            www.uni-mainz.de            16           0   de   \n",
       "2      www.voicefmradio.co.uk            22           0   uk   \n",
       "3         www.sfnmjournal.com            19           0  com   \n",
       "4  www.rewildingargentina.org            26           0  org   \n",
       "\n",
       "   URLSimilarityIndex  CharContinuationRate  TLDLegitimateProb  ...  Pay  \\\n",
       "0               100.0              1.000000           0.522907  ...    0   \n",
       "1               100.0              0.666667           0.032650  ...    0   \n",
       "2               100.0              0.866667           0.028555  ...    0   \n",
       "3               100.0              1.000000           0.522907  ...    1   \n",
       "4               100.0              1.000000           0.079963  ...    1   \n",
       "\n",
       "   Crypto  HasCopyrightInfo  NoOfImage  NoOfCSS  NoOfJS  NoOfSelfRef  \\\n",
       "0       0                 1         34       20      28          119   \n",
       "1       0                 1         50        9       8           39   \n",
       "2       0                 1         10        2       7           42   \n",
       "3       1                 1          3       27      15           22   \n",
       "4       0                 1        244       15      34           72   \n",
       "\n",
       "   NoOfEmptyRef  NoOfExternalRef  label  \n",
       "0             0              124      1  \n",
       "1             0              217      1  \n",
       "2             2                5      1  \n",
       "3             1               31      1  \n",
       "4             1               85      1  \n",
       "\n",
       "[5 rows x 56 columns]"
      ]
     },
     "execution_count": 2,
     "metadata": {},
     "output_type": "execute_result"
    }
   ],
   "source": [
    "df = pd.read_csv(\"url_dataset.csv\")\n",
    "df.head()"
   ]
  },
  {
   "cell_type": "code",
   "execution_count": 3,
   "metadata": {},
   "outputs": [],
   "source": [
    "df.drop([\"FILENAME\"], axis=1,inplace=True)"
   ]
  },
  {
   "cell_type": "code",
   "execution_count": 4,
   "metadata": {},
   "outputs": [
    {
     "name": "stdout",
     "output_type": "stream",
     "text": [
      "Point Biserial Correlation of all numeric features with 'label':\n",
      " {'URLSimilarityIndex': 0.8603580349950416, 'HasSocialNet': 0.784254504861124, 'HasCopyrightInfo': 0.743357512157592, 'HasDescription': 0.6902317838721048, 'IsHTTPS': 0.6091318990621629, 'DomainTitleMatchScore': 0.5849045815469625, 'HasSubmitButton': 0.5785609362364236, 'IsResponsive': 0.5486075477021928, 'URLTitleMatchScore': 0.5394186582390925, 'SpacialCharRatioInURL': -0.5335367395645922, 'HasHiddenFields': 0.507731463177058, 'HasFavicon': 0.4937106614079674, 'URLCharProb': 0.46974858996040497, 'CharContinuationRate': 0.467735299834103, 'HasTitle': 0.4597246819667802, 'DegitRatioInURL': -0.4320321484693691, 'Robots': 0.3926199329567408, 'NoOfJS': 0.3735000743129795, 'LetterRatioInURL': -0.36779433694228847, 'Pay': 0.35974655776652115, 'NoOfOtherSpecialCharsInURL': -0.35889078989755885, 'NoOfSelfRef': 0.31621093459414207, 'DomainLength': -0.2831518897971005, 'NoOfImage': 0.27465767711049166, 'LineOfCode': 0.27225690388519, 'NoOfExternalRef': 0.25862679982558445, 'NoOfLettersInURL': -0.2580904986712052, 'URLLength': -0.2334450745050577, 'NoOfiFrame': 0.22582228184744693, 'Bank': 0.18895899537843183, 'NoOfDegitsInURL': -0.1779804099340267, 'NoOfQMarkInURL': -0.17562142325541855, 'HasExternalFormSubmit': 0.16757350654390823, 'HasPasswordField': 0.13818288763616648, 'NoOfEmptyRef': 0.10923484909816614, 'Crypto': 0.09960999331334924, 'TLDLegitimateProb': 0.09738926357111508, 'TLDLength': -0.07915862308106314, 'NoOfEqualsInURL': -0.07696317102518696, 'NoOfSelfRedirect': -0.07646302933726341, 'NoOfCSS': 0.06810899607762125, 'IsDomainIP': -0.06020248983438849, 'HasObfuscation': -0.05247274048202038, 'NoOfPopup': 0.047391040995308074, 'NoOfURLRedirect': -0.04645613785017513, 'ObfuscationRatio': -0.04191473986003083, 'LargestLineLength': -0.04111056192119666, 'NoOfAmpersandInURL': -0.03462192236770142, 'NoOfObfuscatedChar': -0.01531456557222386, 'NoOfSubDomain': -0.005955129316836158}\n"
     ]
    }
   ],
   "source": [
    "from scipy.stats import pointbiserialr\n",
    "\n",
    "# Calculate Point Biserial Correlation for each numeric feature with the label\n",
    "correlations = {}\n",
    "for column in df.drop('label', axis=1).select_dtypes(include=['number']).columns:\n",
    "    correlations[column], _ = pointbiserialr(df[column], df['label'])\n",
    "\n",
    "# Sort correlations in descending order\n",
    "correlations = dict(sorted(correlations.items(), key=lambda item: abs(item[1]), reverse=True))\n",
    "\n",
    "print(\"Point Biserial Correlation of all numeric features with 'label':\\n\", correlations)\n"
   ]
  },
  {
   "cell_type": "code",
   "execution_count": 5,
   "metadata": {},
   "outputs": [
    {
     "name": "stdout",
     "output_type": "stream",
     "text": [
      "Mutual Information of all features with 'label':\n",
      "                        Feature  Mutual Information\n",
      "3           URLSimilarityIndex            0.681164\n",
      "22                  LineOfCode            0.601542\n",
      "49             NoOfExternalRef            0.561231\n",
      "44                   NoOfImage            0.543898\n",
      "47                 NoOfSelfRef            0.526870\n",
      "46                      NoOfJS            0.501572\n",
      "23           LargestLineLength            0.488808\n",
      "45                     NoOfCSS            0.446841\n",
      "36                HasSocialNet            0.420095\n",
      "13            LetterRatioInURL            0.381689\n",
      "43            HasCopyrightInfo            0.352053\n",
      "32              HasDescription            0.306282\n",
      "21                     IsHTTPS            0.256531\n",
      "19  NoOfOtherSpecialCharsInURL            0.241901\n",
      "25       DomainTitleMatchScore            0.216965\n",
      "37             HasSubmitButton            0.209687\n",
      "20       SpacialCharRatioInURL            0.206534\n",
      "5            TLDLegitimateProb            0.198165\n",
      "26          URLTitleMatchScore            0.197185\n",
      "29                IsResponsive            0.188490\n",
      "4         CharContinuationRate            0.175868\n",
      "15             DegitRatioInURL            0.171669\n",
      "14             NoOfDegitsInURL            0.171288\n",
      "48                NoOfEmptyRef            0.168733\n",
      "0                    URLLength            0.168442\n",
      "34                  NoOfiFrame            0.166527\n",
      "38             HasHiddenFields            0.160874\n",
      "24                    HasTitle            0.153532\n",
      "12            NoOfLettersInURL            0.152936\n",
      "27                  HasFavicon            0.152833\n",
      "6                  URLCharProb            0.137187\n",
      "28                      Robots            0.095819\n",
      "1                 DomainLength            0.091567\n",
      "41                         Pay            0.081710\n",
      "8                NoOfSubDomain            0.080483\n",
      "7                    TLDLength            0.029748\n",
      "33                   NoOfPopup            0.024896\n",
      "17              NoOfQMarkInURL            0.022292\n",
      "40                        Bank            0.020485\n",
      "35       HasExternalFormSubmit            0.018623\n",
      "16             NoOfEqualsInURL            0.017918\n",
      "39            HasPasswordField            0.011164\n",
      "42                      Crypto            0.007450\n",
      "18          NoOfAmpersandInURL            0.004523\n",
      "31            NoOfSelfRedirect            0.004204\n",
      "10          NoOfObfuscatedChar            0.002931\n",
      "2                   IsDomainIP            0.002513\n",
      "11            ObfuscationRatio            0.001791\n",
      "9               HasObfuscation            0.001766\n",
      "30             NoOfURLRedirect            0.000914\n"
     ]
    }
   ],
   "source": [
    "from sklearn.feature_selection import mutual_info_classif\n",
    "columns = df.select_dtypes(include=['object']).columns\n",
    "# Features and target variable\n",
    "X = df.drop('label', axis=1)\n",
    "X = X.drop(columns, axis=1)\n",
    "y = df['label']\n",
    "\n",
    "# Calculate mutual information\n",
    "mutual_info = mutual_info_classif(X, y)\n",
    "\n",
    "# Create a DataFrame to display mutual information scores\n",
    "mutual_info_df = pd.DataFrame({'Feature': X.columns, 'Mutual Information': mutual_info})\n",
    "mutual_info_df = mutual_info_df.sort_values(by='Mutual Information', ascending=False)\n",
    "\n",
    "print(\"Mutual Information of all features with 'label':\\n\", mutual_info_df)\n"
   ]
  },
  {
   "cell_type": "code",
   "execution_count": 6,
   "metadata": {},
   "outputs": [],
   "source": [
    "m_df = df.drop(['TLDLegitimateProb',\n",
    " 'URLTitleMatchScore',\n",
    " 'IsResponsive',\n",
    " 'CharContinuationRate',\n",
    " 'NoOfDegitsInURL',\n",
    " 'DegitRatioInURL',\n",
    " 'NoOfEmptyRef',\n",
    " 'URLLength',\n",
    " 'NoOfiFrame',\n",
    " 'HasHiddenFields',\n",
    " 'HasTitle',\n",
    " 'NoOfLettersInURL',\n",
    " 'HasFavicon',\n",
    " 'URLCharProb',\n",
    " 'Robots',\n",
    " 'DomainLength',\n",
    " 'Pay',\n",
    " 'NoOfSubDomain',\n",
    " 'TLDLength',\n",
    " 'NoOfPopup',\n",
    " 'Bank',\n",
    " 'NoOfQMarkInURL',\n",
    " 'NoOfEqualsInURL',\n",
    " 'HasExternalFormSubmit',\n",
    " 'HasPasswordField',\n",
    " 'Crypto',\n",
    " 'IsDomainIP',\n",
    " 'NoOfSelfRedirect',\n",
    " 'NoOfAmpersandInURL',\n",
    " 'ObfuscationRatio',\n",
    " 'NoOfURLRedirect',\n",
    " 'NoOfObfuscatedChar',\n",
    " 'HasObfuscation'], axis=1)"
   ]
  },
  {
   "cell_type": "code",
   "execution_count": 7,
   "metadata": {},
   "outputs": [],
   "source": [
    "import category_encoders as ce\n",
    "binary_encoder = ce.BinaryEncoder(cols=['TLD'])\n",
    "o_df = binary_encoder.fit_transform(m_df)\n"
   ]
  },
  {
   "cell_type": "code",
   "execution_count": 8,
   "metadata": {},
   "outputs": [
    {
     "data": {
      "text/plain": [
       "((235795, 27), (235795,))"
      ]
     },
     "execution_count": 8,
     "metadata": {},
     "output_type": "execute_result"
    }
   ],
   "source": [
    "# Sepratating & assigning features and target columns to X & y\n",
    "y = o_df['label']\n",
    "X = o_df.drop(['label','URL','Domain','Title'],axis=1)\n",
    "X.shape, y.shape"
   ]
  },
  {
   "cell_type": "code",
   "execution_count": 25,
   "metadata": {},
   "outputs": [
    {
     "data": {
      "text/plain": [
       "((188636, 27), (47159, 27))"
      ]
     },
     "execution_count": 25,
     "metadata": {},
     "output_type": "execute_result"
    }
   ],
   "source": [
    "# Splitting the dataset into train and test sets: 80-20 split\n",
    "from sklearn.model_selection import train_test_split\n",
    "\n",
    "X_train, X_test, y_train, y_test = train_test_split(X, y,\n",
    "                                                    test_size = 0.2, random_state = 12)\n",
    "X_train.shape, X_test.shape"
   ]
  },
  {
   "cell_type": "markdown",
   "metadata": {},
   "source": [
    "# Result synopsis"
   ]
  },
  {
   "cell_type": "code",
   "execution_count": 23,
   "metadata": {},
   "outputs": [],
   "source": [
    "X_train = X_train.drop(columns=['URLSimilarityIndex'], errors='ignore')\n",
    "X_test = X_test.drop(columns=['URLSimilarityIndex'], errors='ignore')"
   ]
  },
  {
   "cell_type": "markdown",
   "metadata": {},
   "source": [
    "## 1. Decision Tree"
   ]
  },
  {
   "cell_type": "code",
   "execution_count": 11,
   "metadata": {},
   "outputs": [
    {
     "name": "stdout",
     "output_type": "stream",
     "text": [
      "Accuracy: 0.9987277083907632\n",
      "Precision: 0.9987277276875591\n",
      "Recall: 0.9987277083907632\n",
      "F1 Score: 0.998727716206058\n",
      "Confusion Matrix:\n",
      "[[20203    29]\n",
      " [   31 26896]]\n",
      "Accuracy: 0.9987277083907632\n",
      "Precision: 0.9987277276875591\n",
      "Recall: 0.9987277083907632\n",
      "F1 Score: 0.998727716206058\n",
      "Confusion Matrix:\n",
      "[[20203    29]\n",
      " [   31 26896]]\n"
     ]
    }
   ],
   "source": [
    "# Print the resultsimport pickle\n",
    "import pickle\n",
    "from sklearn.metrics import accuracy_score, precision_score, recall_score, f1_score, confusion_matrix\n",
    "\n",
    "# Load your model from the pickle file\n",
    "with open(\"dec_tree_m.pkl\", \"rb\") as file:\n",
    "    model = pickle.load(file)\n",
    "\n",
    "# Assuming x_test and y_test are already loaded or defined\n",
    "# Make predictions using the loaded model\n",
    "y_pred = model.predict(X_test)\n",
    "\n",
    "# Calculate the metrics\n",
    "accuracy = accuracy_score(y_test, y_pred)\n",
    "precision = precision_score(y_test, y_pred, average='weighted')\n",
    "recall = recall_score(y_test, y_pred, average='weighted')\n",
    "f1 = f1_score(y_test, y_pred, average='weighted')\n",
    "conf_matrix = confusion_matrix(y_test, y_pred)\n",
    "\n",
    "# Print the results\n",
    "print(f\"Accuracy: {accuracy}\")\n",
    "print(f\"Precision: {precision}\")\n",
    "print(f\"Recall: {recall}\")\n",
    "print(f\"F1 Score: {f1}\")\n",
    "print(\"Confusion Matrix:\")\n",
    "print(conf_matrix)\n",
    "\n",
    "print(f\"Accuracy: {accuracy}\")\n",
    "print(f\"Precision: {precision}\")\n",
    "print(f\"Recall: {recall}\")\n",
    "print(f\"F1 Score: {f1}\")\n",
    "print(\"Confusion Matrix:\")\n",
    "print(conf_matrix)\n"
   ]
  },
  {
   "cell_type": "code",
   "execution_count": 12,
   "metadata": {},
   "outputs": [],
   "source": [
    "import seaborn as sns\n",
    "import matplotlib.pyplot as plt"
   ]
  },
  {
   "cell_type": "code",
   "execution_count": 13,
   "metadata": {},
   "outputs": [],
   "source": [
    "def confusion_mat(y_test, y_pred):\n",
    "  # Generate the confusion matrix\n",
    "  cm = confusion_matrix(y_test, y_pred)\n",
    "  # Create a Confusion Matrix\n",
    "  plt.figure(figsize=(8, 8))\n",
    "  sns.heatmap(cm, annot=True, fmt='d', cmap='Greens')\n",
    "  plt.title('Confusion Matrix')\n",
    "  plt.ylabel('True label')\n",
    "  plt.xlabel('Predicted label')\n",
    "  plt.show()"
   ]
  },
  {
   "cell_type": "code",
   "execution_count": 14,
   "metadata": {},
   "outputs": [
    {
     "data": {
      "image/png": "[encoded data removed]",
      "text/plain": [
       "<Figure size 800x800 with 2 Axes>"
      ]
     },
     "metadata": {},
     "output_type": "display_data"
    }
   ],
   "source": [
    "confusion_mat(y_test,y_pred)"
   ]
  },
  {
   "cell_type": "markdown",
   "metadata": {},
   "source": [
    "## 2. XGBoost"
   ]
  },
  {
   "cell_type": "code",
   "execution_count": 15,
   "metadata": {},
   "outputs": [
    {
     "name": "stdout",
     "output_type": "stream",
     "text": [
      "Accuracy: 0.9997243368179987\n",
      "Precision: 0.999724351281779\n",
      "Recall: 0.9997243368179987\n",
      "F1 Score: 0.9997243325801042\n",
      "Confusion Matrix:\n",
      "[[20223     9]\n",
      " [    4 26923]]\n",
      "Accuracy: 0.9997243368179987\n",
      "Precision: 0.999724351281779\n",
      "Recall: 0.9997243368179987\n",
      "F1 Score: 0.9997243325801042\n",
      "Confusion Matrix:\n",
      "[[20223     9]\n",
      " [    4 26923]]\n"
     ]
    },
    {
     "name": "stderr",
     "output_type": "stream",
     "text": [
      "c:\\Users\\sandesh lavshetty\\anaconda3\\Lib\\site-packages\\xgboost\\core.py:160: UserWarning: [11:31:08] WARNING: C:\\buildkite-agent\\builds\\buildkite-windows-cpu-autoscaling-group-i-0b3782d1791676daf-1\\xgboost\\xgboost-ci-windows\\src\\common/error_msg.h:80: If you are loading a serialized model (like pickle in Python, RDS in R) or\n",
      "configuration generated by an older version of XGBoost, please export the model by calling\n",
      "`Booster.save_model` from that version first, then load it back in current version. See:\n",
      "\n",
      "    https://xgboost.readthedocs.io/en/stable/tutorials/saving_model.html\n",
      "\n",
      "for more details about differences between saving model and serializing.\n",
      "\n",
      "  warnings.warn(smsg, UserWarning)\n"
     ]
    }
   ],
   "source": [
    "\n",
    "# Load your model from the pickle file\n",
    "with open(\"xgboost_model.pkl\", \"rb\") as file:\n",
    "    model = pickle.load(file)\n",
    "\n",
    "# Assuming x_test and y_test are already loaded or defined\n",
    "# Make predictions using the loaded model\n",
    "y_pred = model.predict(X_test)\n",
    "\n",
    "# Calculate the metrics\n",
    "accuracy = accuracy_score(y_test, y_pred)\n",
    "precision = precision_score(y_test, y_pred, average='weighted')\n",
    "recall = recall_score(y_test, y_pred, average='weighted')\n",
    "f1 = f1_score(y_test, y_pred, average='weighted')\n",
    "conf_matrix = confusion_matrix(y_test, y_pred)\n",
    "\n",
    "# Print the results\n",
    "print(f\"Accuracy: {accuracy}\")\n",
    "print(f\"Precision: {precision}\")\n",
    "print(f\"Recall: {recall}\")\n",
    "print(f\"F1 Score: {f1}\")\n",
    "print(\"Confusion Matrix:\")\n",
    "print(conf_matrix)\n",
    "\n",
    "print(f\"Accuracy: {accuracy}\")\n",
    "print(f\"Precision: {precision}\")\n",
    "print(f\"Recall: {recall}\")\n",
    "print(f\"F1 Score: {f1}\")\n",
    "print(\"Confusion Matrix:\")\n",
    "print(conf_matrix)\n"
   ]
  },
  {
   "cell_type": "code",
   "execution_count": 16,
   "metadata": {},
   "outputs": [
    {
     "data": {
      "image/png": "[encoded data removed]",
      "text/plain": [
       "<Figure size 800x800 with 2 Axes>"
      ]
     },
     "metadata": {},
     "output_type": "display_data"
    }
   ],
   "source": [
    "confusion_mat(y_test,y_pred)"
   ]
  },
  {
   "cell_type": "markdown",
   "metadata": {},
   "source": [
    "## 3. Random Forrest"
   ]
  },
  {
   "cell_type": "code",
   "execution_count": 18,
   "metadata": {},
   "outputs": [
    {
     "name": "stdout",
     "output_type": "stream",
     "text": [
      "Requirement already satisfied: numpy in c:\\users\\sandesh lavshetty\\anaconda3\\lib\\site-packages (1.24.4)\n",
      "Collecting numpy\n",
      "  Using cached numpy-2.1.3-cp311-cp311-win_amd64.whl.metadata (60 kB)\n",
      "Requirement already satisfied: scikit-learn in c:\\users\\sandesh lavshetty\\anaconda3\\lib\\site-packages (1.5.2)\n",
      "Requirement already satisfied: scipy>=1.6.0 in c:\\users\\sandesh lavshetty\\anaconda3\\lib\\site-packages (from scikit-learn) (1.10.1)\n",
      "Requirement already satisfied: joblib>=1.2.0 in c:\\users\\sandesh lavshetty\\anaconda3\\lib\\site-packages (from scikit-learn) (1.2.0)\n",
      "Requirement already satisfied: threadpoolctl>=3.1.0 in c:\\users\\sandesh lavshetty\\anaconda3\\lib\\site-packages (from scikit-learn) (3.5.0)\n",
      "  Using cached numpy-1.26.4-cp311-cp311-win_amd64.whl.metadata (61 kB)\n",
      "Using cached numpy-1.26.4-cp311-cp311-win_amd64.whl (15.8 MB)\n",
      "Installing collected packages: numpy\n",
      "  Attempting uninstall: numpy\n",
      "    Found existing installation: numpy 1.24.4\n",
      "    Uninstalling numpy-1.24.4:\n",
      "      Successfully uninstalled numpy-1.24.4\n",
      "Successfully installed numpy-1.26.4\n",
      "Note: you may need to restart the kernel to use updated packages.\n"
     ]
    },
    {
     "name": "stderr",
     "output_type": "stream",
     "text": [
      "  WARNING: Failed to remove contents in a temporary directory 'C:\\Users\\sandesh lavshetty\\anaconda3\\Lib\\site-packages\\~-mpy'.\n",
      "  You can safely remove it manually.\n",
      "ERROR: pip's dependency resolver does not currently take into account all the packages that are installed. This behaviour is the source of the following dependency conflicts.\n",
      "tables 3.8.0 requires blosc2~=2.0.0, which is not installed.\n",
      "tables 3.8.0 requires cython>=0.29.21, which is not installed.\n",
      "langchain-community 0.0.29 requires langchain-core<0.2.0,>=0.1.33, but you have langchain-core 0.1.23 which is incompatible.\n",
      "langchain-community 0.0.29 requires langsmith<0.2.0,>=0.1.0, but you have langsmith 0.0.87 which is incompatible.\n",
      "numba 0.57.0 requires numpy<1.25,>=1.21, but you have numpy 1.26.4 which is incompatible.\n",
      "pyfume 0.3.4 requires numpy==1.24.4, but you have numpy 1.26.4 which is incompatible.\n",
      "\n",
      "[notice] A new release of pip is available: 24.0 -> 24.3.1\n",
      "[notice] To update, run: python.exe -m pip install --upgrade pip\n"
     ]
    }
   ],
   "source": [
    "%pip install --upgrade numpy scikit-learn\n"
   ]
  },
  {
   "cell_type": "code",
   "execution_count": 19,
   "metadata": {},
   "outputs": [
    {
     "name": "stdout",
     "output_type": "stream",
     "text": [
      "Accuracy: 0.9996395173773829\n",
      "Precision: 0.999639571735576\n",
      "Recall: 0.9996395173773829\n",
      "F1 Score: 0.9996395073958302\n",
      "Confusion Matrix:\n",
      "[[20219    13]\n",
      " [    4 26923]]\n",
      "Accuracy: 0.9996395173773829\n",
      "Precision: 0.999639571735576\n",
      "Recall: 0.9996395173773829\n",
      "F1 Score: 0.9996395073958302\n",
      "Confusion Matrix:\n",
      "[[20219    13]\n",
      " [    4 26923]]\n"
     ]
    }
   ],
   "source": [
    "# Load your model from the pickle file\n",
    "with open(\"rf_model.pkl\", \"rb\") as file:\n",
    "    model = pickle.load(file)\n",
    "\n",
    "# Assuming x_test and y_test are already loaded or defined\n",
    "# Make predictions using the loaded model\n",
    "y_pred = model.predict(X_test)\n",
    "\n",
    "# Calculate the metrics\n",
    "accuracy = accuracy_score(y_test, y_pred)\n",
    "precision = precision_score(y_test, y_pred, average='weighted')\n",
    "recall = recall_score(y_test, y_pred, average='weighted')\n",
    "f1 = f1_score(y_test, y_pred, average='weighted')\n",
    "conf_matrix = confusion_matrix(y_test, y_pred)\n",
    "\n",
    "# Print the results\n",
    "print(f\"Accuracy: {accuracy}\")\n",
    "print(f\"Precision: {precision}\")\n",
    "print(f\"Recall: {recall}\")\n",
    "print(f\"F1 Score: {f1}\")\n",
    "print(\"Confusion Matrix:\")\n",
    "print(conf_matrix)\n",
    "\n",
    "print(f\"Accuracy: {accuracy}\")\n",
    "print(f\"Precision: {precision}\")\n",
    "print(f\"Recall: {recall}\")\n",
    "print(f\"F1 Score: {f1}\")\n",
    "print(\"Confusion Matrix:\")\n",
    "print(conf_matrix)\n"
   ]
  },
  {
   "cell_type": "code",
   "execution_count": 20,
   "metadata": {},
   "outputs": [
    {
     "data": {
      "image/png": "[encoded data removed]",
      "text/plain": [
       "<Figure size 800x800 with 2 Axes>"
      ]
     },
     "metadata": {},
     "output_type": "display_data"
    }
   ],
   "source": [
    "confusion_mat(y_test,y_pred)"
   ]
  },
  {
   "cell_type": "markdown",
   "metadata": {},
   "source": [
    "## 4. SVM"
   ]
  },
  {
   "cell_type": "code",
   "execution_count": 26,
   "metadata": {},
   "outputs": [
    {
     "name": "stdout",
     "output_type": "stream",
     "text": [
      "Accuracy: 1.0\n",
      "Precision: 1.0\n",
      "Recall: 1.0\n",
      "F1 Score: 1.0\n",
      "Confusion Matrix:\n",
      "[[20232     0]\n",
      " [    0 26927]]\n",
      "Accuracy: 1.0\n",
      "Precision: 1.0\n",
      "Recall: 1.0\n",
      "F1 Score: 1.0\n",
      "Confusion Matrix:\n",
      "[[20232     0]\n",
      " [    0 26927]]\n"
     ]
    }
   ],
   "source": [
    "# Load your model from the pickle file\n",
    "with open(\"svm_model.pkl\", \"rb\") as file:\n",
    "    model = pickle.load(file)\n",
    "\n",
    "# Assuming x_test and y_test are already loaded or defined\n",
    "# Make predictions using the loaded model\n",
    "y_pred = model.predict(X_test)\n",
    "\n",
    "# Calculate the metrics\n",
    "accuracy = accuracy_score(y_test, y_pred)\n",
    "precision = precision_score(y_test, y_pred, average='weighted')\n",
    "recall = recall_score(y_test, y_pred, average='weighted')\n",
    "f1 = f1_score(y_test, y_pred, average='weighted')\n",
    "conf_matrix = confusion_matrix(y_test, y_pred)\n",
    "\n",
    "# Print the results\n",
    "print(f\"Accuracy: {accuracy}\")\n",
    "print(f\"Precision: {precision}\")\n",
    "print(f\"Recall: {recall}\")\n",
    "print(f\"F1 Score: {f1}\")\n",
    "print(\"Confusion Matrix:\")\n",
    "print(conf_matrix)\n",
    "\n",
    "print(f\"Accuracy: {accuracy}\")\n",
    "print(f\"Precision: {precision}\")\n",
    "print(f\"Recall: {recall}\")\n",
    "print(f\"F1 Score: {f1}\")\n",
    "print(\"Confusion Matrix:\")\n",
    "print(conf_matrix)\n"
   ]
  },
  {
   "cell_type": "code",
   "execution_count": 27,
   "metadata": {},
   "outputs": [
    {
     "data": {
      "image/png": "[encoded data removed]",
      "text/plain": [
       "<Figure size 800x800 with 2 Axes>"
      ]
     },
     "metadata": {},
     "output_type": "display_data"
    }
   ],
   "source": [
    "confusion_mat(y_test,y_pred)"
   ]
  }
 ],
 "metadata": {
  "kernelspec": {
   "display_name": "base",
   "language": "python",
   "name": "python3"
  },
  "language_info": {
   "codemirror_mode": {
    "name": "ipython",
    "version": 3
   },
   "file_extension": ".py",
   "mimetype": "text/x-python",
   "name": "python",
   "nbconvert_exporter": "python",
   "pygments_lexer": "ipython3",
   "version": "3.11.3"
  }
 },
 "nbformat": 4,
 "nbformat_minor": 2
}
